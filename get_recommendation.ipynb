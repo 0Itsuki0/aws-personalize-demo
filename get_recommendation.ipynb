{
 "cells": [
  {
   "cell_type": "code",
   "execution_count": 1,
   "metadata": {},
   "outputs": [],
   "source": [
    "import boto3\n",
    "import json\n",
    "import pandas as pd"
   ]
  },
  {
   "cell_type": "code",
   "execution_count": 5,
   "metadata": {},
   "outputs": [],
   "source": [
    "# get movie information based on the id and movie dataframe provided\n",
    "def get_movie_by_id(movie_id, movie_df):\n",
    "    try:\n",
    "        return movie_df.loc[movie_df[\"movieId\"]==int(movie_id)]['title'].values[0]\n",
    "    except:\n",
    "        print (movie_id)\n",
    "        return \"Error obtaining title\""
   ]
  },
  {
   "cell_type": "code",
   "execution_count": 2,
   "metadata": {},
   "outputs": [],
   "source": [
    "# Configure the SDK to Personalize:\n",
    "personalize = boto3.client('personalize')\n",
    "personalize_runtime = boto3.client('personalize-runtime')"
   ]
  },
  {
   "cell_type": "markdown",
   "metadata": {},
   "source": [
    "## more like x"
   ]
  },
  {
   "cell_type": "code",
   "execution_count": 9,
   "metadata": {},
   "outputs": [],
   "source": [
    "# First pick a user\n",
    "user_id = \"1\"\n",
    "\n",
    "# Select a random item\n",
    "movie_id = \"391\" #Iron Man 59315, Tangled: 81847\n",
    "\n",
    "# Get recommendations for the user for this item\n",
    "get_recommendations_response = personalize_runtime.get_recommendations(\n",
    "    recommenderArn = \"arn:aws:personalize:ap-northeast-1:075198889659:recommender/movie-recommender-more-like-x\",\n",
    "    userId = user_id,\n",
    "    itemId = movie_id,\n",
    "    numResults = 20\n",
    ")"
   ]
  },
  {
   "cell_type": "code",
   "execution_count": 11,
   "metadata": {},
   "outputs": [
    {
     "name": "stdout",
     "output_type": "stream",
     "text": [
      "[{'itemId': '117881'}, {'itemId': '198'}, {'itemId': '1406'}, {'itemId': '164'}, {'itemId': '145'}, {'itemId': '259'}, {'itemId': '159'}, {'itemId': '170'}, {'itemId': '335'}, {'itemId': '160'}, {'itemId': '257'}, {'itemId': '173'}, {'itemId': '1245'}, {'itemId': '29'}, {'itemId': '384'}, {'itemId': '78'}, {'itemId': '20'}, {'itemId': '51357'}, {'itemId': '36'}, {'itemId': '117'}]\n"
     ]
    }
   ],
   "source": [
    "print(get_recommendations_response[\"itemList\"])"
   ]
  },
  {
   "cell_type": "code",
   "execution_count": 12,
   "metadata": {},
   "outputs": [],
   "source": [
    "movies = pd.read_csv('./ml-latest-small/movies.csv')\n"
   ]
  },
  {
   "cell_type": "code",
   "execution_count": 16,
   "metadata": {},
   "outputs": [
    {
     "data": {
      "text/plain": [
       "'Still Alice (2014)'"
      ]
     },
     "execution_count": 16,
     "metadata": {},
     "output_type": "execute_result"
    }
   ],
   "source": [
    "get_movie_by_id(get_recommendations_response[\"itemList\"][0][\"itemId\"], movies)"
   ]
  },
  {
   "cell_type": "markdown",
   "metadata": {},
   "source": [
    "## top picks for you"
   ]
  },
  {
   "cell_type": "code",
   "execution_count": 3,
   "metadata": {},
   "outputs": [],
   "source": [
    "# userId\n",
    "user_id = \"1\"\n",
    "\n",
    "# Get recommendations for the user\n",
    "get_recommendations_response = personalize_runtime.get_recommendations(\n",
    "    recommenderArn = \"arn:aws:personalize:ap-northeast-1:075198889659:recommender/movie-recommender-top-picks\",\n",
    "    userId = user_id,\n",
    "    numResults = 20\n",
    ")\n"
   ]
  },
  {
   "cell_type": "code",
   "execution_count": 4,
   "metadata": {},
   "outputs": [
    {
     "name": "stdout",
     "output_type": "stream",
     "text": [
      "[{'itemId': '1641'}, {'itemId': '1784'}, {'itemId': '235'}, {'itemId': '2108'}, {'itemId': '223'}, {'itemId': '1569'}, {'itemId': '1721'}, {'itemId': '1673'}, {'itemId': '1439'}, {'itemId': '2396'}, {'itemId': '2599'}, {'itemId': '1602'}, {'itemId': '1612'}, {'itemId': '1580'}, {'itemId': '2321'}, {'itemId': '1639'}, {'itemId': '3108'}, {'itemId': '1594'}, {'itemId': '11'}, {'itemId': '1676'}]\n"
     ]
    }
   ],
   "source": [
    "print(get_recommendations_response[\"itemList\"])"
   ]
  },
  {
   "cell_type": "code",
   "execution_count": 6,
   "metadata": {},
   "outputs": [
    {
     "data": {
      "text/plain": [
       "'Full Monty, The (1997)'"
      ]
     },
     "execution_count": 6,
     "metadata": {},
     "output_type": "execute_result"
    }
   ],
   "source": [
    "movies = pd.read_csv('./ml-latest-small/movies.csv')\n",
    "get_movie_by_id(get_recommendations_response[\"itemList\"][0][\"itemId\"], movies)\n"
   ]
  }
 ],
 "metadata": {
  "kernelspec": {
   "display_name": "Python 3",
   "language": "python",
   "name": "python3"
  },
  "language_info": {
   "codemirror_mode": {
    "name": "ipython",
    "version": 3
   },
   "file_extension": ".py",
   "mimetype": "text/x-python",
   "name": "python",
   "nbconvert_exporter": "python",
   "pygments_lexer": "ipython3",
   "version": "3.11.5"
  }
 },
 "nbformat": 4,
 "nbformat_minor": 2
}
